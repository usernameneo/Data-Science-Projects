{
 "cells": [
  {
   "cell_type": "markdown",
   "id": "a1bf0cd4",
   "metadata": {},
   "source": [
    "# Warehouse Dataset Cleanup\n",
    "## Library Setup\n",
    "\n",
    "The main objective of this project is to clean and transform a dataset containing warehouse data and prepare it to be analysed. The libraries we'll use for this is pandas and seaborn."
   ]
  },
  {
   "cell_type": "code",
   "execution_count": 1,
   "id": "15d125b8",
   "metadata": {},
   "outputs": [],
   "source": [
    "import pandas as pd\n",
    "from word2number import w2n\n",
    "import seaborn as sns\n",
    "\n",
    "sns.set_theme(style=\"whitegrid\", palette=\"colorblind\")"
   ]
  },
  {
   "cell_type": "markdown",
   "id": "68285ece",
   "metadata": {},
   "source": [
    "## Load data\n",
    "\n",
    "To enable manipulation of the data we'll load the dataset into a pandas DataFrame object and perform a preliminary assessment of the data structure."
   ]
  },
  {
   "cell_type": "code",
   "execution_count": 2,
   "id": "c5abe4b8",
   "metadata": {},
   "outputs": [
    {
     "data": {
      "text/plain": [
       "(1000, 10)"
      ]
     },
     "execution_count": 2,
     "metadata": {},
     "output_type": "execute_result"
    }
   ],
   "source": [
    "path = \"https://raw.githubusercontent.com/usernameneo/Data-Science-Projects/refs/heads/main/EDA/Warehouse/data/warehouse_messy_data.csv\"\n",
    "df = pd.read_csv(path)\n",
    "\n",
    "df.shape"
   ]
  },
  {
   "cell_type": "code",
   "execution_count": 3,
   "id": "66d2e597",
   "metadata": {},
   "outputs": [
    {
     "data": {
      "text/html": [
       "<div>\n",
       "<style scoped>\n",
       "    .dataframe tbody tr th:only-of-type {\n",
       "        vertical-align: middle;\n",
       "    }\n",
       "\n",
       "    .dataframe tbody tr th {\n",
       "        vertical-align: top;\n",
       "    }\n",
       "\n",
       "    .dataframe thead th {\n",
       "        text-align: right;\n",
       "    }\n",
       "</style>\n",
       "<table border=\"1\" class=\"dataframe\">\n",
       "  <thead>\n",
       "    <tr style=\"text-align: right;\">\n",
       "      <th></th>\n",
       "      <th>Product ID</th>\n",
       "      <th>Product Name</th>\n",
       "      <th>Category</th>\n",
       "      <th>Warehouse</th>\n",
       "      <th>Location</th>\n",
       "      <th>Quantity</th>\n",
       "      <th>Price</th>\n",
       "      <th>Supplier</th>\n",
       "      <th>Status</th>\n",
       "      <th>Last Restocked</th>\n",
       "    </tr>\n",
       "  </thead>\n",
       "  <tbody>\n",
       "    <tr>\n",
       "      <th>0</th>\n",
       "      <td>1102</td>\n",
       "      <td>gadget y</td>\n",
       "      <td>ELECTRONICS</td>\n",
       "      <td>Warehouse 2</td>\n",
       "      <td>Aisle 1</td>\n",
       "      <td>300</td>\n",
       "      <td>9.99</td>\n",
       "      <td>Supplier C</td>\n",
       "      <td>In Stock</td>\n",
       "      <td>NaN</td>\n",
       "    </tr>\n",
       "    <tr>\n",
       "      <th>1</th>\n",
       "      <td>1435</td>\n",
       "      <td>gadget y</td>\n",
       "      <td>ELECTRONICS</td>\n",
       "      <td>Warehouse 2</td>\n",
       "      <td>Aisle 4</td>\n",
       "      <td>two hundred</td>\n",
       "      <td>19.99</td>\n",
       "      <td>Supplier C</td>\n",
       "      <td>Out of Stock</td>\n",
       "      <td>NaN</td>\n",
       "    </tr>\n",
       "    <tr>\n",
       "      <th>2</th>\n",
       "      <td>1860</td>\n",
       "      <td>widget a</td>\n",
       "      <td>CLOTHING</td>\n",
       "      <td>Warehouse 2</td>\n",
       "      <td>Aisle 3</td>\n",
       "      <td>100</td>\n",
       "      <td>19.99</td>\n",
       "      <td>Supplier B</td>\n",
       "      <td>In Stock</td>\n",
       "      <td>20/12/2022</td>\n",
       "    </tr>\n",
       "    <tr>\n",
       "      <th>3</th>\n",
       "      <td>1270</td>\n",
       "      <td>gadget z</td>\n",
       "      <td>TOYS</td>\n",
       "      <td>Warehouse 2</td>\n",
       "      <td>Aisle 4</td>\n",
       "      <td>50</td>\n",
       "      <td>49.99</td>\n",
       "      <td>Supplier B</td>\n",
       "      <td>In Stock</td>\n",
       "      <td>20/12/2022</td>\n",
       "    </tr>\n",
       "    <tr>\n",
       "      <th>4</th>\n",
       "      <td>1106</td>\n",
       "      <td>widget a</td>\n",
       "      <td>FURNITURE</td>\n",
       "      <td>Warehouse 3</td>\n",
       "      <td>Aisle 3</td>\n",
       "      <td>two hundred</td>\n",
       "      <td>9.99</td>\n",
       "      <td>Supplier D</td>\n",
       "      <td>Out of Stock</td>\n",
       "      <td>25/04/2023</td>\n",
       "    </tr>\n",
       "  </tbody>\n",
       "</table>\n",
       "</div>"
      ],
      "text/plain": [
       "   Product ID Product Name     Category    Warehouse Location     Quantity  \\\n",
       "0        1102    gadget y   ELECTRONICS  Warehouse 2  Aisle 1          300   \n",
       "1        1435    gadget y   ELECTRONICS  Warehouse 2  Aisle 4  two hundred   \n",
       "2        1860    widget a      CLOTHING  Warehouse 2  Aisle 3          100   \n",
       "3        1270    gadget z          TOYS  Warehouse 2  Aisle 4           50   \n",
       "4        1106    widget a     FURNITURE  Warehouse 3  Aisle 3  two hundred   \n",
       "\n",
       "   Price    Supplier        Status Last Restocked  \n",
       "0   9.99  Supplier C      In Stock            NaN  \n",
       "1  19.99  Supplier C  Out of Stock            NaN  \n",
       "2  19.99  Supplier B      In Stock     20/12/2022  \n",
       "3  49.99  Supplier B      In Stock     20/12/2022  \n",
       "4   9.99  Supplier D  Out of Stock     25/04/2023  "
      ]
     },
     "execution_count": 3,
     "metadata": {},
     "output_type": "execute_result"
    }
   ],
   "source": [
    "df.head()"
   ]
  },
  {
   "cell_type": "code",
   "execution_count": 4,
   "id": "fe227ae1",
   "metadata": {},
   "outputs": [
    {
     "data": {
      "text/html": [
       "<div>\n",
       "<style scoped>\n",
       "    .dataframe tbody tr th:only-of-type {\n",
       "        vertical-align: middle;\n",
       "    }\n",
       "\n",
       "    .dataframe tbody tr th {\n",
       "        vertical-align: top;\n",
       "    }\n",
       "\n",
       "    .dataframe thead th {\n",
       "        text-align: right;\n",
       "    }\n",
       "</style>\n",
       "<table border=\"1\" class=\"dataframe\">\n",
       "  <thead>\n",
       "    <tr style=\"text-align: right;\">\n",
       "      <th></th>\n",
       "      <th>Product ID</th>\n",
       "      <th>Product Name</th>\n",
       "      <th>Category</th>\n",
       "      <th>Warehouse</th>\n",
       "      <th>Location</th>\n",
       "      <th>Quantity</th>\n",
       "      <th>Price</th>\n",
       "      <th>Supplier</th>\n",
       "      <th>Status</th>\n",
       "      <th>Last Restocked</th>\n",
       "    </tr>\n",
       "  </thead>\n",
       "  <tbody>\n",
       "    <tr>\n",
       "      <th>995</th>\n",
       "      <td>1009</td>\n",
       "      <td>widget b</td>\n",
       "      <td>FURNITURE</td>\n",
       "      <td>Warehouse 2</td>\n",
       "      <td>Aisle 2</td>\n",
       "      <td>100</td>\n",
       "      <td>NaN</td>\n",
       "      <td>Supplier C</td>\n",
       "      <td>In Stock</td>\n",
       "      <td>15/01/2023</td>\n",
       "    </tr>\n",
       "    <tr>\n",
       "      <th>996</th>\n",
       "      <td>1823</td>\n",
       "      <td>gadget y</td>\n",
       "      <td>ELECTRONICS</td>\n",
       "      <td>Warehouse 2</td>\n",
       "      <td>Aisle 3</td>\n",
       "      <td>300</td>\n",
       "      <td>19.99</td>\n",
       "      <td>Supplier B</td>\n",
       "      <td>In Stock</td>\n",
       "      <td>20/12/2022</td>\n",
       "    </tr>\n",
       "    <tr>\n",
       "      <th>997</th>\n",
       "      <td>1797</td>\n",
       "      <td>gadget z</td>\n",
       "      <td>TOYS</td>\n",
       "      <td>Warehouse 3</td>\n",
       "      <td>Aisle 5</td>\n",
       "      <td>150</td>\n",
       "      <td>9.99</td>\n",
       "      <td>Supplier C</td>\n",
       "      <td>Low Stock</td>\n",
       "      <td>05/03/2023</td>\n",
       "    </tr>\n",
       "    <tr>\n",
       "      <th>998</th>\n",
       "      <td>1241</td>\n",
       "      <td>widget c</td>\n",
       "      <td>FURNITURE</td>\n",
       "      <td>Warehouse 2</td>\n",
       "      <td>Aisle 2</td>\n",
       "      <td>100</td>\n",
       "      <td>49.99</td>\n",
       "      <td>Supplier C</td>\n",
       "      <td>Low Stock</td>\n",
       "      <td>20/12/2022</td>\n",
       "    </tr>\n",
       "    <tr>\n",
       "      <th>999</th>\n",
       "      <td>1250</td>\n",
       "      <td>widget a</td>\n",
       "      <td>CLOTHING</td>\n",
       "      <td>Warehouse 1</td>\n",
       "      <td>Aisle 3</td>\n",
       "      <td>100</td>\n",
       "      <td>49.99</td>\n",
       "      <td>Supplier B</td>\n",
       "      <td>Out of Stock</td>\n",
       "      <td>20/12/2022</td>\n",
       "    </tr>\n",
       "  </tbody>\n",
       "</table>\n",
       "</div>"
      ],
      "text/plain": [
       "     Product ID Product Name     Category    Warehouse Location Quantity  \\\n",
       "995        1009    widget b     FURNITURE  Warehouse 2  Aisle 2      100   \n",
       "996        1823    gadget y   ELECTRONICS  Warehouse 2  Aisle 3      300   \n",
       "997        1797    gadget z          TOYS  Warehouse 3  Aisle 5      150   \n",
       "998        1241    widget c     FURNITURE  Warehouse 2  Aisle 2      100   \n",
       "999        1250    widget a      CLOTHING  Warehouse 1  Aisle 3      100   \n",
       "\n",
       "     Price    Supplier        Status Last Restocked  \n",
       "995    NaN  Supplier C      In Stock     15/01/2023  \n",
       "996  19.99  Supplier B      In Stock     20/12/2022  \n",
       "997   9.99  Supplier C     Low Stock     05/03/2023  \n",
       "998  49.99  Supplier C     Low Stock     20/12/2022  \n",
       "999  49.99  Supplier B  Out of Stock     20/12/2022  "
      ]
     },
     "execution_count": 4,
     "metadata": {},
     "output_type": "execute_result"
    }
   ],
   "source": [
    "df.tail()"
   ]
  },
  {
   "cell_type": "code",
   "execution_count": 5,
   "id": "35a21437",
   "metadata": {},
   "outputs": [
    {
     "data": {
      "text/plain": [
       "Product ID          int64\n",
       "Product Name       object\n",
       "Category           object\n",
       "Warehouse          object\n",
       "Location           object\n",
       "Quantity           object\n",
       "Price             float64\n",
       "Supplier           object\n",
       "Status             object\n",
       "Last Restocked     object\n",
       "dtype: object"
      ]
     },
     "execution_count": 5,
     "metadata": {},
     "output_type": "execute_result"
    }
   ],
   "source": [
    "df.dtypes"
   ]
  },
  {
   "cell_type": "markdown",
   "id": "474cccc6",
   "metadata": {},
   "source": [
    "## Data Cleaning\n",
    "\n",
    "From the pleliminary structural assessment, we can see that the dataframe we'll be working with is 10 columns wide and 1,000 records deep. Issues we'll need to address are the meaningless values in Product Name, input inconsistencies in Quantity, and missing values in Price and Last Restocked. The data types for most of the columns are string, we need to convert numerical and date columns to appropriate data types.\n",
    "\n",
    "We'll first remove Product Name, and rename Product ID and Last Restocked to ID and Restocked to ensure our dataframe consists of meaningful and consise data."
   ]
  },
  {
   "cell_type": "code",
   "execution_count": 6,
   "id": "09c657d6",
   "metadata": {},
   "outputs": [
    {
     "data": {
      "text/plain": [
       "Index(['Product ID', 'Category', 'Warehouse', 'Location', 'Quantity', 'Price',\n",
       "       'Supplier', 'Status', 'Last Restocked'],\n",
       "      dtype='object')"
      ]
     },
     "execution_count": 6,
     "metadata": {},
     "output_type": "execute_result"
    }
   ],
   "source": [
    "df = df.drop([\"Product Name\"], axis=1)\n",
    "df.columns"
   ]
  },
  {
   "cell_type": "code",
   "execution_count": 7,
   "id": "7e616d2b",
   "metadata": {},
   "outputs": [
    {
     "data": {
      "text/plain": [
       "Index(['ID', 'Category', 'Warehouse', 'Location', 'Quantity', 'Price',\n",
       "       'Supplier', 'Status', 'Restocked'],\n",
       "      dtype='object')"
      ]
     },
     "execution_count": 7,
     "metadata": {},
     "output_type": "execute_result"
    }
   ],
   "source": [
    "df = df.rename(columns={\"Product ID\": \"ID\", \"Last Restocked\": \"Restocked\"})\n",
    "df.columns"
   ]
  },
  {
   "cell_type": "markdown",
   "id": "96f76aab",
   "metadata": {},
   "source": [
    "Data duplication is unlikely given the type of records being stored, however, we will perform an assessment to verify that there no duplicate records and handle them appropriately if any are present in our data."
   ]
  },
  {
   "cell_type": "code",
   "execution_count": 8,
   "id": "2a0c9eac",
   "metadata": {},
   "outputs": [
    {
     "name": "stdout",
     "output_type": "stream",
     "text": [
      "Duplicate Records: 0\n"
     ]
    }
   ],
   "source": [
    "print(f\"Duplicate Records: {df.duplicated().sum()}\")"
   ]
  },
  {
   "cell_type": "markdown",
   "id": "f95c6d31",
   "metadata": {},
   "source": [
    "Next we'll identify where all missing values in our data are located by counting all non-NA values for each column and row."
   ]
  },
  {
   "cell_type": "code",
   "execution_count": 9,
   "id": "5f26909e",
   "metadata": {},
   "outputs": [
    {
     "data": {
      "text/plain": [
       "ID             0\n",
       "Category       0\n",
       "Warehouse      0\n",
       "Location       0\n",
       "Quantity     158\n",
       "Price        207\n",
       "Supplier       0\n",
       "Status         0\n",
       "Restocked    200\n",
       "dtype: int64"
      ]
     },
     "execution_count": 9,
     "metadata": {},
     "output_type": "execute_result"
    }
   ],
   "source": [
    "df.isna().sum()"
   ]
  },
  {
   "cell_type": "markdown",
   "id": "b9db05e7",
   "metadata": {},
   "source": [
    "### Quantity\n",
    "\n",
    "The Quantity field has three issues, missing values, incorrect data type and incosistancy. We'll rectify these issues as follows:\n",
    "1. Correct inconsistency by converting all worded entries to their numerical couterpart, enabling data type conversion. We'll define a function to parse each record and covert each worded value.\n",
    "2. Convert the column to an integer data type, int64. This is the most appropriate because you cannot typically acquire 1.5 items.\n",
    "3. Lastly we'll fill in missing values with the average for that category of item."
   ]
  },
  {
   "cell_type": "code",
   "execution_count": 10,
   "id": "162d0760",
   "metadata": {},
   "outputs": [
    {
     "data": {
      "text/plain": [
       "ID             int64\n",
       "Category      object\n",
       "Warehouse     object\n",
       "Location      object\n",
       "Quantity       Int64\n",
       "Price        float64\n",
       "Supplier      object\n",
       "Status        object\n",
       "Restocked     object\n",
       "dtype: object"
      ]
     },
     "execution_count": 10,
     "metadata": {},
     "output_type": "execute_result"
    }
   ],
   "source": [
    "def convert_to_digits(value):\n",
    "    if pd.isna(value):\n",
    "        return value\n",
    "    \n",
    "    str_value = str(value).strip().lower()\n",
    "    \n",
    "    try:\n",
    "        return int(float(str_value))\n",
    "    except ValueError:\n",
    "        try:\n",
    "            return w2n.word_to_num(str_value)\n",
    "        except ValueError:\n",
    "            return pd.NA\n",
    "\n",
    "df.Quantity = round(df[\"Quantity\"].apply(convert_to_digits)).astype(\"Int64\")\n",
    "df.dtypes"
   ]
  },
  {
   "cell_type": "markdown",
   "id": "04180e6b",
   "metadata": {},
   "source": [
    "The mean of the Quantity and Price columns will be a float value, so we'll round it off to cenvert it to an integer."
   ]
  },
  {
   "cell_type": "code",
   "execution_count": 11,
   "id": "dec6aceb",
   "metadata": {},
   "outputs": [
    {
     "data": {
      "text/plain": [
       "ID           1000\n",
       "Category     1000\n",
       "Warehouse    1000\n",
       "Location     1000\n",
       "Quantity     1000\n",
       "Price         793\n",
       "Supplier     1000\n",
       "Status       1000\n",
       "Restocked     800\n",
       "dtype: int64"
      ]
     },
     "execution_count": 11,
     "metadata": {},
     "output_type": "execute_result"
    }
   ],
   "source": [
    "category_quantity_ave = round(df.groupby(\"Category\")[\"Quantity\"].mean())\n",
    "df.Quantity = df.Quantity.fillna(df[\"Category\"].map(category_quantity_ave))\n",
    "df.count()"
   ]
  },
  {
   "cell_type": "markdown",
   "id": "c2487a7b",
   "metadata": {},
   "source": [
    "### Price"
   ]
  },
  {
   "cell_type": "code",
   "execution_count": 12,
   "id": "81f6a998",
   "metadata": {},
   "outputs": [
    {
     "data": {
      "text/plain": [
       "ID           1000\n",
       "Category     1000\n",
       "Warehouse    1000\n",
       "Location     1000\n",
       "Quantity     1000\n",
       "Price        1000\n",
       "Supplier     1000\n",
       "Status       1000\n",
       "Restocked     800\n",
       "dtype: int64"
      ]
     },
     "execution_count": 12,
     "metadata": {},
     "output_type": "execute_result"
    }
   ],
   "source": [
    "category_price_ave = round(df.groupby(\"Category\")[\"Price\"].mean())\n",
    "df.Price = df.Price.fillna(df[\"Category\"].map(category_price_ave))\n",
    "df.count()"
   ]
  },
  {
   "cell_type": "markdown",
   "id": "2ba19486",
   "metadata": {},
   "source": [
    "### Restocked\n",
    "\n",
    "Missing values will raise an error in we attempt to convert them into datetime format. To address this, we coerce these values to a missing value format meant for datetime objects."
   ]
  },
  {
   "cell_type": "code",
   "execution_count": 13,
   "id": "4dd388e3",
   "metadata": {},
   "outputs": [
    {
     "name": "stderr",
     "output_type": "stream",
     "text": [
      "/tmp/ipykernel_72421/2048096838.py:1: UserWarning: Parsing dates in %d/%m/%Y format when dayfirst=False (the default) was specified. Pass `dayfirst=True` or specify a format to silence this warning.\n",
      "  df.Restocked = pd.to_datetime(df.Restocked, errors=\"coerce\")\n"
     ]
    },
    {
     "data": {
      "text/html": [
       "<div>\n",
       "<style scoped>\n",
       "    .dataframe tbody tr th:only-of-type {\n",
       "        vertical-align: middle;\n",
       "    }\n",
       "\n",
       "    .dataframe tbody tr th {\n",
       "        vertical-align: top;\n",
       "    }\n",
       "\n",
       "    .dataframe thead th {\n",
       "        text-align: right;\n",
       "    }\n",
       "</style>\n",
       "<table border=\"1\" class=\"dataframe\">\n",
       "  <thead>\n",
       "    <tr style=\"text-align: right;\">\n",
       "      <th></th>\n",
       "      <th>ID</th>\n",
       "      <th>Category</th>\n",
       "      <th>Warehouse</th>\n",
       "      <th>Location</th>\n",
       "      <th>Quantity</th>\n",
       "      <th>Price</th>\n",
       "      <th>Supplier</th>\n",
       "      <th>Status</th>\n",
       "      <th>Restocked</th>\n",
       "    </tr>\n",
       "  </thead>\n",
       "  <tbody>\n",
       "    <tr>\n",
       "      <th>0</th>\n",
       "      <td>1102</td>\n",
       "      <td>ELECTRONICS</td>\n",
       "      <td>Warehouse 2</td>\n",
       "      <td>Aisle 1</td>\n",
       "      <td>300</td>\n",
       "      <td>9.99</td>\n",
       "      <td>Supplier C</td>\n",
       "      <td>In Stock</td>\n",
       "      <td>NaT</td>\n",
       "    </tr>\n",
       "    <tr>\n",
       "      <th>1</th>\n",
       "      <td>1435</td>\n",
       "      <td>ELECTRONICS</td>\n",
       "      <td>Warehouse 2</td>\n",
       "      <td>Aisle 4</td>\n",
       "      <td>200</td>\n",
       "      <td>19.99</td>\n",
       "      <td>Supplier C</td>\n",
       "      <td>Out of Stock</td>\n",
       "      <td>NaT</td>\n",
       "    </tr>\n",
       "    <tr>\n",
       "      <th>2</th>\n",
       "      <td>1860</td>\n",
       "      <td>CLOTHING</td>\n",
       "      <td>Warehouse 2</td>\n",
       "      <td>Aisle 3</td>\n",
       "      <td>100</td>\n",
       "      <td>19.99</td>\n",
       "      <td>Supplier B</td>\n",
       "      <td>In Stock</td>\n",
       "      <td>2022-12-20</td>\n",
       "    </tr>\n",
       "    <tr>\n",
       "      <th>3</th>\n",
       "      <td>1270</td>\n",
       "      <td>TOYS</td>\n",
       "      <td>Warehouse 2</td>\n",
       "      <td>Aisle 4</td>\n",
       "      <td>50</td>\n",
       "      <td>49.99</td>\n",
       "      <td>Supplier B</td>\n",
       "      <td>In Stock</td>\n",
       "      <td>2022-12-20</td>\n",
       "    </tr>\n",
       "    <tr>\n",
       "      <th>4</th>\n",
       "      <td>1106</td>\n",
       "      <td>FURNITURE</td>\n",
       "      <td>Warehouse 3</td>\n",
       "      <td>Aisle 3</td>\n",
       "      <td>200</td>\n",
       "      <td>9.99</td>\n",
       "      <td>Supplier D</td>\n",
       "      <td>Out of Stock</td>\n",
       "      <td>2023-04-25</td>\n",
       "    </tr>\n",
       "    <tr>\n",
       "      <th>5</th>\n",
       "      <td>1071</td>\n",
       "      <td>CLOTHING</td>\n",
       "      <td>Warehouse 3</td>\n",
       "      <td>Aisle 5</td>\n",
       "      <td>300</td>\n",
       "      <td>28.00</td>\n",
       "      <td>Supplier A</td>\n",
       "      <td>In Stock</td>\n",
       "      <td>2022-12-20</td>\n",
       "    </tr>\n",
       "    <tr>\n",
       "      <th>6</th>\n",
       "      <td>1700</td>\n",
       "      <td>CLOTHING</td>\n",
       "      <td>Warehouse 2</td>\n",
       "      <td>Aisle 2</td>\n",
       "      <td>200</td>\n",
       "      <td>49.99</td>\n",
       "      <td>Supplier B</td>\n",
       "      <td>In Stock</td>\n",
       "      <td>2022-12-20</td>\n",
       "    </tr>\n",
       "    <tr>\n",
       "      <th>7</th>\n",
       "      <td>1020</td>\n",
       "      <td>CLOTHING</td>\n",
       "      <td>Warehouse 1</td>\n",
       "      <td>Aisle 5</td>\n",
       "      <td>200</td>\n",
       "      <td>9.99</td>\n",
       "      <td>Supplier D</td>\n",
       "      <td>Out of Stock</td>\n",
       "      <td>2022-12-20</td>\n",
       "    </tr>\n",
       "    <tr>\n",
       "      <th>8</th>\n",
       "      <td>1614</td>\n",
       "      <td>ELECTRONICS</td>\n",
       "      <td>Warehouse 3</td>\n",
       "      <td>Aisle 3</td>\n",
       "      <td>300</td>\n",
       "      <td>9.99</td>\n",
       "      <td>Supplier B</td>\n",
       "      <td>Out of Stock</td>\n",
       "      <td>2023-03-05</td>\n",
       "    </tr>\n",
       "    <tr>\n",
       "      <th>9</th>\n",
       "      <td>1121</td>\n",
       "      <td>TOYS</td>\n",
       "      <td>Warehouse 1</td>\n",
       "      <td>Aisle 2</td>\n",
       "      <td>50</td>\n",
       "      <td>19.99</td>\n",
       "      <td>Supplier C</td>\n",
       "      <td>Out of Stock</td>\n",
       "      <td>2022-12-20</td>\n",
       "    </tr>\n",
       "  </tbody>\n",
       "</table>\n",
       "</div>"
      ],
      "text/plain": [
       "     ID     Category    Warehouse Location  Quantity  Price    Supplier  \\\n",
       "0  1102  ELECTRONICS  Warehouse 2  Aisle 1       300   9.99  Supplier C   \n",
       "1  1435  ELECTRONICS  Warehouse 2  Aisle 4       200  19.99  Supplier C   \n",
       "2  1860     CLOTHING  Warehouse 2  Aisle 3       100  19.99  Supplier B   \n",
       "3  1270         TOYS  Warehouse 2  Aisle 4        50  49.99  Supplier B   \n",
       "4  1106    FURNITURE  Warehouse 3  Aisle 3       200   9.99  Supplier D   \n",
       "5  1071     CLOTHING  Warehouse 3  Aisle 5       300  28.00  Supplier A   \n",
       "6  1700     CLOTHING  Warehouse 2  Aisle 2       200  49.99  Supplier B   \n",
       "7  1020     CLOTHING  Warehouse 1  Aisle 5       200   9.99  Supplier D   \n",
       "8  1614  ELECTRONICS  Warehouse 3  Aisle 3       300   9.99  Supplier B   \n",
       "9  1121         TOYS  Warehouse 1  Aisle 2        50  19.99  Supplier C   \n",
       "\n",
       "         Status  Restocked  \n",
       "0      In Stock        NaT  \n",
       "1  Out of Stock        NaT  \n",
       "2      In Stock 2022-12-20  \n",
       "3      In Stock 2022-12-20  \n",
       "4  Out of Stock 2023-04-25  \n",
       "5      In Stock 2022-12-20  \n",
       "6      In Stock 2022-12-20  \n",
       "7  Out of Stock 2022-12-20  \n",
       "8  Out of Stock 2023-03-05  \n",
       "9  Out of Stock 2022-12-20  "
      ]
     },
     "execution_count": 13,
     "metadata": {},
     "output_type": "execute_result"
    }
   ],
   "source": [
    "df.Restocked = pd.to_datetime(df.Restocked, errors=\"coerce\")\n",
    "df.head(10)"
   ]
  },
  {
   "cell_type": "markdown",
   "id": "ff616563",
   "metadata": {},
   "source": [
    "Lastly, assuming that items are restocked on a regular basis, we'll use the median date to fill in any missing values in Restocked."
   ]
  },
  {
   "cell_type": "code",
   "execution_count": 14,
   "id": "db43f37f",
   "metadata": {},
   "outputs": [
    {
     "data": {
      "text/plain": [
       "np.int64(1000)"
      ]
     },
     "execution_count": 14,
     "metadata": {},
     "output_type": "execute_result"
    }
   ],
   "source": [
    "median_date = df.Restocked.median()\n",
    "df.Restocked = df.Restocked.fillna(median_date)\n",
    "df.Restocked.count()"
   ]
  },
  {
   "cell_type": "markdown",
   "id": "8fe5982a",
   "metadata": {},
   "source": [
    "## Preliminary analysis\n",
    "### Five Number Summary"
   ]
  },
  {
   "cell_type": "code",
   "execution_count": 15,
   "id": "a090df34",
   "metadata": {},
   "outputs": [
    {
     "data": {
      "text/html": [
       "<div>\n",
       "<style scoped>\n",
       "    .dataframe tbody tr th:only-of-type {\n",
       "        vertical-align: middle;\n",
       "    }\n",
       "\n",
       "    .dataframe tbody tr th {\n",
       "        vertical-align: top;\n",
       "    }\n",
       "\n",
       "    .dataframe thead th {\n",
       "        text-align: right;\n",
       "    }\n",
       "</style>\n",
       "<table border=\"1\" class=\"dataframe\">\n",
       "  <thead>\n",
       "    <tr style=\"text-align: right;\">\n",
       "      <th></th>\n",
       "      <th>Price</th>\n",
       "    </tr>\n",
       "  </thead>\n",
       "  <tbody>\n",
       "    <tr>\n",
       "      <th>count</th>\n",
       "      <td>1000.000000</td>\n",
       "    </tr>\n",
       "    <tr>\n",
       "      <th>mean</th>\n",
       "      <td>28.059070</td>\n",
       "    </tr>\n",
       "    <tr>\n",
       "      <th>std</th>\n",
       "      <td>13.080488</td>\n",
       "    </tr>\n",
       "    <tr>\n",
       "      <th>min</th>\n",
       "      <td>9.990000</td>\n",
       "    </tr>\n",
       "    <tr>\n",
       "      <th>25%</th>\n",
       "      <td>19.990000</td>\n",
       "    </tr>\n",
       "    <tr>\n",
       "      <th>50%</th>\n",
       "      <td>28.000000</td>\n",
       "    </tr>\n",
       "    <tr>\n",
       "      <th>75%</th>\n",
       "      <td>29.990000</td>\n",
       "    </tr>\n",
       "    <tr>\n",
       "      <th>max</th>\n",
       "      <td>49.990000</td>\n",
       "    </tr>\n",
       "  </tbody>\n",
       "</table>\n",
       "</div>"
      ],
      "text/plain": [
       "             Price\n",
       "count  1000.000000\n",
       "mean     28.059070\n",
       "std      13.080488\n",
       "min       9.990000\n",
       "25%      19.990000\n",
       "50%      28.000000\n",
       "75%      29.990000\n",
       "max      49.990000"
      ]
     },
     "execution_count": 15,
     "metadata": {},
     "output_type": "execute_result"
    }
   ],
   "source": [
    "df.describe(exclude=[\"int64\", \"datetime64[ns]\", \"object\"])"
   ]
  },
  {
   "cell_type": "markdown",
   "id": "5baedefc",
   "metadata": {},
   "source": [
    "### Outliers"
   ]
  },
  {
   "cell_type": "code",
   "execution_count": 16,
   "id": "a7883d23",
   "metadata": {},
   "outputs": [
    {
     "data": {
      "text/plain": [
       "<Axes: xlabel='Price'>"
      ]
     },
     "execution_count": 16,
     "metadata": {},
     "output_type": "execute_result"
    },
    {
     "data": {
      "image/png": "[encoded data removed]",
      "text/plain": [
       "<Figure size 640x480 with 1 Axes>"
      ]
     },
     "metadata": {},
     "output_type": "display_data"
    }
   ],
   "source": [
    "sns.boxplot(x=df.Price)"
   ]
  },
  {
   "cell_type": "code",
   "execution_count": 17,
   "id": "1a7223b7",
   "metadata": {},
   "outputs": [
    {
     "data": {
      "text/plain": [
       "<Axes: xlabel='Quantity'>"
      ]
     },
     "execution_count": 17,
     "metadata": {},
     "output_type": "execute_result"
    },
    {
     "data": {
      "image/png": "[encoded data removed]",
      "text/plain": [
       "<Figure size 640x480 with 1 Axes>"
      ]
     },
     "metadata": {},
     "output_type": "display_data"
    }
   ],
   "source": [
    "sns.boxplot(x=df.Quantity)"
   ]
  }
 ],
 "metadata": {
  "kernelspec": {
   "display_name": "Python 3",
   "language": "python",
   "name": "python3"
  },
  "language_info": {
   "codemirror_mode": {
    "name": "ipython",
    "version": 3
   },
   "file_extension": ".py",
   "mimetype": "text/x-python",
   "name": "python",
   "nbconvert_exporter": "python",
   "pygments_lexer": "ipython3",
   "version": "3.12.1"
  }
 },
 "nbformat": 4,
 "nbformat_minor": 5
}
