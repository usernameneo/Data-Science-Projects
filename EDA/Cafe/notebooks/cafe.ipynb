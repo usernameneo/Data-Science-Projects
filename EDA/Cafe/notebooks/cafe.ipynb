{
 "cells": [
  {
   "cell_type": "markdown",
   "id": "3c8dd0f6",
   "metadata": {},
   "source": [
    "# Cafe Dataset Cleanup\n"
   ]
  },
  {
   "cell_type": "markdown",
   "id": "89fa2f18",
   "metadata": {},
   "source": [
    "## Library Setup"
   ]
  },
  {
   "cell_type": "markdown",
   "id": "510d8e4d",
   "metadata": {},
   "source": [
    "For this data cleaning process we'll be using pandas to handle our dataset, numpy for vectorised operations and random for categorised imputations."
   ]
  },
  {
   "cell_type": "code",
   "execution_count": 1,
   "id": "b5c62e7c",
   "metadata": {},
   "outputs": [],
   "source": [
    "import pandas as pd\n",
    "import numpy as np\n",
    "import random"
   ]
  },
  {
   "cell_type": "markdown",
   "id": "c3674596",
   "metadata": {},
   "source": [
    "## Load Data"
   ]
  },
  {
   "cell_type": "markdown",
   "id": "1f87a38a",
   "metadata": {},
   "source": [
    "First, we load our dataset into a pandas dataframe object and initilise our dictionaries"
   ]
  },
  {
   "cell_type": "code",
   "execution_count": 2,
   "id": "26bb8453",
   "metadata": {},
   "outputs": [
    {
     "data": {
      "text/plain": [
       "(10000, 8)"
      ]
     },
     "execution_count": 2,
     "metadata": {},
     "output_type": "execute_result"
    }
   ],
   "source": [
    "path = \"/workspaces/Data-Science-Projects/EDA/Cafe/data/dirty_cafe_sales.csv\"\n",
    "df = pd.read_csv(path)\n",
    "\n",
    "df.shape"
   ]
  },
  {
   "cell_type": "code",
   "execution_count": 3,
   "id": "15b36258",
   "metadata": {},
   "outputs": [
    {
     "data": {
      "text/plain": [
       "{1.0: ['Cookie'],\n",
       " 1.5: ['Tea'],\n",
       " 2.0: ['Coffee'],\n",
       " 3.0: ['Cake', 'Juice'],\n",
       " 4.0: ['Sandwich', 'Smoothie'],\n",
       " 5.0: ['Salad']}"
      ]
     },
     "execution_count": 3,
     "metadata": {},
     "output_type": "execute_result"
    }
   ],
   "source": [
    "menu = {\n",
    "    \"Cookie\": 1.0,\n",
    "    \"Tea\": 1.5,\n",
    "    \"Coffee\": 2.0,\n",
    "    \"Cake\": 3.0,\n",
    "    \"Juice\": 3.0,\n",
    "    \"Sandwich\": 4.0,\n",
    "    \"Smoothie\": 4.0,\n",
    "    \"Salad\": 5.0,\n",
    "}\n",
    "\n",
    "price_item_dict = {}\n",
    "for item, price in menu.items():\n",
    "    price_item_dict.setdefault(price, []).append(item)\n",
    "\n",
    "price_item_dict\n"
   ]
  },
  {
   "cell_type": "code",
   "execution_count": 4,
   "id": "74531217",
   "metadata": {},
   "outputs": [
    {
     "data": {
      "text/html": [
       "<div>\n",
       "<style scoped>\n",
       "    .dataframe tbody tr th:only-of-type {\n",
       "        vertical-align: middle;\n",
       "    }\n",
       "\n",
       "    .dataframe tbody tr th {\n",
       "        vertical-align: top;\n",
       "    }\n",
       "\n",
       "    .dataframe thead th {\n",
       "        text-align: right;\n",
       "    }\n",
       "</style>\n",
       "<table border=\"1\" class=\"dataframe\">\n",
       "  <thead>\n",
       "    <tr style=\"text-align: right;\">\n",
       "      <th></th>\n",
       "      <th>Transaction ID</th>\n",
       "      <th>Item</th>\n",
       "      <th>Quantity</th>\n",
       "      <th>Price Per Unit</th>\n",
       "      <th>Total Spent</th>\n",
       "      <th>Payment Method</th>\n",
       "      <th>Location</th>\n",
       "      <th>Transaction Date</th>\n",
       "    </tr>\n",
       "  </thead>\n",
       "  <tbody>\n",
       "    <tr>\n",
       "      <th>0</th>\n",
       "      <td>TXN_1961373</td>\n",
       "      <td>Coffee</td>\n",
       "      <td>2</td>\n",
       "      <td>2.0</td>\n",
       "      <td>4.0</td>\n",
       "      <td>Credit Card</td>\n",
       "      <td>Takeaway</td>\n",
       "      <td>2023-09-08</td>\n",
       "    </tr>\n",
       "    <tr>\n",
       "      <th>1</th>\n",
       "      <td>TXN_4977031</td>\n",
       "      <td>Cake</td>\n",
       "      <td>4</td>\n",
       "      <td>3.0</td>\n",
       "      <td>12.0</td>\n",
       "      <td>Cash</td>\n",
       "      <td>In-store</td>\n",
       "      <td>2023-05-16</td>\n",
       "    </tr>\n",
       "    <tr>\n",
       "      <th>2</th>\n",
       "      <td>TXN_4271903</td>\n",
       "      <td>Cookie</td>\n",
       "      <td>4</td>\n",
       "      <td>1.0</td>\n",
       "      <td>ERROR</td>\n",
       "      <td>Credit Card</td>\n",
       "      <td>In-store</td>\n",
       "      <td>2023-07-19</td>\n",
       "    </tr>\n",
       "    <tr>\n",
       "      <th>3</th>\n",
       "      <td>TXN_7034554</td>\n",
       "      <td>Salad</td>\n",
       "      <td>2</td>\n",
       "      <td>5.0</td>\n",
       "      <td>10.0</td>\n",
       "      <td>UNKNOWN</td>\n",
       "      <td>UNKNOWN</td>\n",
       "      <td>2023-04-27</td>\n",
       "    </tr>\n",
       "    <tr>\n",
       "      <th>4</th>\n",
       "      <td>TXN_3160411</td>\n",
       "      <td>Coffee</td>\n",
       "      <td>2</td>\n",
       "      <td>2.0</td>\n",
       "      <td>4.0</td>\n",
       "      <td>Digital Wallet</td>\n",
       "      <td>In-store</td>\n",
       "      <td>2023-06-11</td>\n",
       "    </tr>\n",
       "  </tbody>\n",
       "</table>\n",
       "</div>"
      ],
      "text/plain": [
       "  Transaction ID    Item Quantity Price Per Unit Total Spent  Payment Method  \\\n",
       "0    TXN_1961373  Coffee        2            2.0         4.0     Credit Card   \n",
       "1    TXN_4977031    Cake        4            3.0        12.0            Cash   \n",
       "2    TXN_4271903  Cookie        4            1.0       ERROR     Credit Card   \n",
       "3    TXN_7034554   Salad        2            5.0        10.0         UNKNOWN   \n",
       "4    TXN_3160411  Coffee        2            2.0         4.0  Digital Wallet   \n",
       "\n",
       "   Location Transaction Date  \n",
       "0  Takeaway       2023-09-08  \n",
       "1  In-store       2023-05-16  \n",
       "2  In-store       2023-07-19  \n",
       "3   UNKNOWN       2023-04-27  \n",
       "4  In-store       2023-06-11  "
      ]
     },
     "execution_count": 4,
     "metadata": {},
     "output_type": "execute_result"
    }
   ],
   "source": [
    "df.head()"
   ]
  },
  {
   "cell_type": "code",
   "execution_count": 5,
   "id": "64afee21",
   "metadata": {},
   "outputs": [
    {
     "data": {
      "text/html": [
       "<div>\n",
       "<style scoped>\n",
       "    .dataframe tbody tr th:only-of-type {\n",
       "        vertical-align: middle;\n",
       "    }\n",
       "\n",
       "    .dataframe tbody tr th {\n",
       "        vertical-align: top;\n",
       "    }\n",
       "\n",
       "    .dataframe thead th {\n",
       "        text-align: right;\n",
       "    }\n",
       "</style>\n",
       "<table border=\"1\" class=\"dataframe\">\n",
       "  <thead>\n",
       "    <tr style=\"text-align: right;\">\n",
       "      <th></th>\n",
       "      <th>Transaction ID</th>\n",
       "      <th>Item</th>\n",
       "      <th>Quantity</th>\n",
       "      <th>Price Per Unit</th>\n",
       "      <th>Total Spent</th>\n",
       "      <th>Payment Method</th>\n",
       "      <th>Location</th>\n",
       "      <th>Transaction Date</th>\n",
       "    </tr>\n",
       "  </thead>\n",
       "  <tbody>\n",
       "    <tr>\n",
       "      <th>9995</th>\n",
       "      <td>TXN_7672686</td>\n",
       "      <td>Coffee</td>\n",
       "      <td>2</td>\n",
       "      <td>2.0</td>\n",
       "      <td>4.0</td>\n",
       "      <td>NaN</td>\n",
       "      <td>UNKNOWN</td>\n",
       "      <td>2023-08-30</td>\n",
       "    </tr>\n",
       "    <tr>\n",
       "      <th>9996</th>\n",
       "      <td>TXN_9659401</td>\n",
       "      <td>NaN</td>\n",
       "      <td>3</td>\n",
       "      <td>NaN</td>\n",
       "      <td>3.0</td>\n",
       "      <td>Digital Wallet</td>\n",
       "      <td>NaN</td>\n",
       "      <td>2023-06-02</td>\n",
       "    </tr>\n",
       "    <tr>\n",
       "      <th>9997</th>\n",
       "      <td>TXN_5255387</td>\n",
       "      <td>Coffee</td>\n",
       "      <td>4</td>\n",
       "      <td>2.0</td>\n",
       "      <td>8.0</td>\n",
       "      <td>Digital Wallet</td>\n",
       "      <td>NaN</td>\n",
       "      <td>2023-03-02</td>\n",
       "    </tr>\n",
       "    <tr>\n",
       "      <th>9998</th>\n",
       "      <td>TXN_7695629</td>\n",
       "      <td>Cookie</td>\n",
       "      <td>3</td>\n",
       "      <td>NaN</td>\n",
       "      <td>3.0</td>\n",
       "      <td>Digital Wallet</td>\n",
       "      <td>NaN</td>\n",
       "      <td>2023-12-02</td>\n",
       "    </tr>\n",
       "    <tr>\n",
       "      <th>9999</th>\n",
       "      <td>TXN_6170729</td>\n",
       "      <td>Sandwich</td>\n",
       "      <td>3</td>\n",
       "      <td>4.0</td>\n",
       "      <td>12.0</td>\n",
       "      <td>Cash</td>\n",
       "      <td>In-store</td>\n",
       "      <td>2023-11-07</td>\n",
       "    </tr>\n",
       "  </tbody>\n",
       "</table>\n",
       "</div>"
      ],
      "text/plain": [
       "     Transaction ID      Item Quantity Price Per Unit Total Spent  \\\n",
       "9995    TXN_7672686    Coffee        2            2.0         4.0   \n",
       "9996    TXN_9659401       NaN        3            NaN         3.0   \n",
       "9997    TXN_5255387    Coffee        4            2.0         8.0   \n",
       "9998    TXN_7695629    Cookie        3            NaN         3.0   \n",
       "9999    TXN_6170729  Sandwich        3            4.0        12.0   \n",
       "\n",
       "      Payment Method  Location Transaction Date  \n",
       "9995             NaN   UNKNOWN       2023-08-30  \n",
       "9996  Digital Wallet       NaN       2023-06-02  \n",
       "9997  Digital Wallet       NaN       2023-03-02  \n",
       "9998  Digital Wallet       NaN       2023-12-02  \n",
       "9999            Cash  In-store       2023-11-07  "
      ]
     },
     "execution_count": 5,
     "metadata": {},
     "output_type": "execute_result"
    }
   ],
   "source": [
    "df.tail()"
   ]
  },
  {
   "cell_type": "code",
   "execution_count": 6,
   "id": "36c0755b",
   "metadata": {},
   "outputs": [
    {
     "data": {
      "text/plain": [
       "Transaction ID      object\n",
       "Item                object\n",
       "Quantity            object\n",
       "Price Per Unit      object\n",
       "Total Spent         object\n",
       "Payment Method      object\n",
       "Location            object\n",
       "Transaction Date    object\n",
       "dtype: object"
      ]
     },
     "execution_count": 6,
     "metadata": {},
     "output_type": "execute_result"
    }
   ],
   "source": [
    "df.dtypes"
   ]
  },
  {
   "cell_type": "code",
   "execution_count": 7,
   "id": "49cb65b7",
   "metadata": {},
   "outputs": [
    {
     "data": {
      "text/plain": [
       "Transaction ID         0\n",
       "Item                 333\n",
       "Quantity             138\n",
       "Price Per Unit       179\n",
       "Total Spent          173\n",
       "Payment Method      2579\n",
       "Location            3265\n",
       "Transaction Date     159\n",
       "dtype: int64"
      ]
     },
     "execution_count": 7,
     "metadata": {},
     "output_type": "execute_result"
    }
   ],
   "source": [
    "df.isna().sum()"
   ]
  },
  {
   "cell_type": "markdown",
   "id": "8589a279",
   "metadata": {},
   "source": [
    "From a preliminary dataset visualisation and analysis, our dataset contains various data incosistenciese, missing values and incorrect data types for numerical and date data. Our data has 10 000 records and 8 columns."
   ]
  },
  {
   "cell_type": "markdown",
   "id": "f49f736b",
   "metadata": {},
   "source": [
    "## Data Cleaning"
   ]
  },
  {
   "cell_type": "markdown",
   "id": "08194bb5",
   "metadata": {},
   "source": [
    "To begin our data cleaning pipeline, we'll rename the columns to increase efficiency while coding."
   ]
  },
  {
   "cell_type": "code",
   "execution_count": 8,
   "id": "9ae447e6",
   "metadata": {},
   "outputs": [
    {
     "data": {
      "text/html": [
       "<div>\n",
       "<style scoped>\n",
       "    .dataframe tbody tr th:only-of-type {\n",
       "        vertical-align: middle;\n",
       "    }\n",
       "\n",
       "    .dataframe tbody tr th {\n",
       "        vertical-align: top;\n",
       "    }\n",
       "\n",
       "    .dataframe thead th {\n",
       "        text-align: right;\n",
       "    }\n",
       "</style>\n",
       "<table border=\"1\" class=\"dataframe\">\n",
       "  <thead>\n",
       "    <tr style=\"text-align: right;\">\n",
       "      <th></th>\n",
       "      <th>Txn_ID</th>\n",
       "      <th>Item</th>\n",
       "      <th>Quantity</th>\n",
       "      <th>Unit_Price</th>\n",
       "      <th>Total</th>\n",
       "      <th>Payment</th>\n",
       "      <th>Location</th>\n",
       "      <th>Date</th>\n",
       "    </tr>\n",
       "  </thead>\n",
       "  <tbody>\n",
       "  </tbody>\n",
       "</table>\n",
       "</div>"
      ],
      "text/plain": [
       "Empty DataFrame\n",
       "Columns: [Txn_ID, Item, Quantity, Unit_Price, Total, Payment, Location, Date]\n",
       "Index: []"
      ]
     },
     "execution_count": 8,
     "metadata": {},
     "output_type": "execute_result"
    }
   ],
   "source": [
    "df.columns = ['Txn_ID', 'Item', 'Quantity', 'Unit_Price', 'Total', 'Payment', 'Location', 'Date']\n",
    "df.head(0)"
   ]
  },
  {
   "cell_type": "markdown",
   "id": "11c55438",
   "metadata": {},
   "source": [
    "### Data Type Conversion"
   ]
  },
  {
   "cell_type": "markdown",
   "id": "30a0b3bb",
   "metadata": {},
   "source": [
    "There are invalid values that we'll convert to null values and columns that we will convert to appropriate data types"
   ]
  },
  {
   "cell_type": "code",
   "execution_count": 9,
   "id": "4b2b8edb",
   "metadata": {},
   "outputs": [
    {
     "data": {
      "text/plain": [
       "np.int64(0)"
      ]
     },
     "execution_count": 9,
     "metadata": {},
     "output_type": "execute_result"
    }
   ],
   "source": [
    "df.duplicated(\"Txn_ID\").sum()"
   ]
  },
  {
   "cell_type": "markdown",
   "id": "f2e3b092",
   "metadata": {},
   "source": [
    "Our unique identifier is not duplicated, letting us know that every record in the dataset is an individual transaction."
   ]
  },
  {
   "cell_type": "code",
   "execution_count": 10,
   "id": "9ad8925c",
   "metadata": {},
   "outputs": [
    {
     "data": {
      "text/html": [
       "<div>\n",
       "<style scoped>\n",
       "    .dataframe tbody tr th:only-of-type {\n",
       "        vertical-align: middle;\n",
       "    }\n",
       "\n",
       "    .dataframe tbody tr th {\n",
       "        vertical-align: top;\n",
       "    }\n",
       "\n",
       "    .dataframe thead th {\n",
       "        text-align: right;\n",
       "    }\n",
       "</style>\n",
       "<table border=\"1\" class=\"dataframe\">\n",
       "  <thead>\n",
       "    <tr style=\"text-align: right;\">\n",
       "      <th></th>\n",
       "      <th>Txn_ID</th>\n",
       "      <th>Item</th>\n",
       "      <th>Quantity</th>\n",
       "      <th>Unit_Price</th>\n",
       "      <th>Total</th>\n",
       "      <th>Payment</th>\n",
       "      <th>Location</th>\n",
       "      <th>Date</th>\n",
       "    </tr>\n",
       "  </thead>\n",
       "  <tbody>\n",
       "    <tr>\n",
       "      <th>0</th>\n",
       "      <td>TXN_1961373</td>\n",
       "      <td>Coffee</td>\n",
       "      <td>2</td>\n",
       "      <td>2.0</td>\n",
       "      <td>4.0</td>\n",
       "      <td>Credit Card</td>\n",
       "      <td>Takeaway</td>\n",
       "      <td>2023-09-08</td>\n",
       "    </tr>\n",
       "    <tr>\n",
       "      <th>1</th>\n",
       "      <td>TXN_4977031</td>\n",
       "      <td>Cake</td>\n",
       "      <td>4</td>\n",
       "      <td>3.0</td>\n",
       "      <td>12.0</td>\n",
       "      <td>Cash</td>\n",
       "      <td>In-store</td>\n",
       "      <td>2023-05-16</td>\n",
       "    </tr>\n",
       "    <tr>\n",
       "      <th>2</th>\n",
       "      <td>TXN_4271903</td>\n",
       "      <td>Cookie</td>\n",
       "      <td>4</td>\n",
       "      <td>1.0</td>\n",
       "      <td>ERROR</td>\n",
       "      <td>Credit Card</td>\n",
       "      <td>In-store</td>\n",
       "      <td>2023-07-19</td>\n",
       "    </tr>\n",
       "    <tr>\n",
       "      <th>3</th>\n",
       "      <td>TXN_7034554</td>\n",
       "      <td>Salad</td>\n",
       "      <td>2</td>\n",
       "      <td>5.0</td>\n",
       "      <td>10.0</td>\n",
       "      <td>UNKNOWN</td>\n",
       "      <td>UNKNOWN</td>\n",
       "      <td>2023-04-27</td>\n",
       "    </tr>\n",
       "    <tr>\n",
       "      <th>4</th>\n",
       "      <td>TXN_3160411</td>\n",
       "      <td>Coffee</td>\n",
       "      <td>2</td>\n",
       "      <td>2.0</td>\n",
       "      <td>4.0</td>\n",
       "      <td>Digital Wallet</td>\n",
       "      <td>In-store</td>\n",
       "      <td>2023-06-11</td>\n",
       "    </tr>\n",
       "  </tbody>\n",
       "</table>\n",
       "</div>"
      ],
      "text/plain": [
       "        Txn_ID    Item Quantity Unit_Price  Total         Payment  Location  \\\n",
       "0  TXN_1961373  Coffee        2        2.0    4.0     Credit Card  Takeaway   \n",
       "1  TXN_4977031    Cake        4        3.0   12.0            Cash  In-store   \n",
       "2  TXN_4271903  Cookie        4        1.0  ERROR     Credit Card  In-store   \n",
       "3  TXN_7034554   Salad        2        5.0   10.0         UNKNOWN   UNKNOWN   \n",
       "4  TXN_3160411  Coffee        2        2.0    4.0  Digital Wallet  In-store   \n",
       "\n",
       "         Date  \n",
       "0  2023-09-08  \n",
       "1  2023-05-16  \n",
       "2  2023-07-19  \n",
       "3  2023-04-27  \n",
       "4  2023-06-11  "
      ]
     },
     "execution_count": 10,
     "metadata": {},
     "output_type": "execute_result"
    }
   ],
   "source": [
    "df.head()"
   ]
  },
  {
   "cell_type": "code",
   "execution_count": 11,
   "id": "0a1b06df",
   "metadata": {},
   "outputs": [
    {
     "data": {
      "text/plain": [
       "Txn_ID                object\n",
       "Item                  object\n",
       "Quantity               Int64\n",
       "Unit_Price           Float64\n",
       "Total                Float64\n",
       "Payment               object\n",
       "Location              object\n",
       "Date          datetime64[ns]\n",
       "dtype: object"
      ]
     },
     "execution_count": 11,
     "metadata": {},
     "output_type": "execute_result"
    }
   ],
   "source": [
    "df.loc[df.Item.isin([\"UNKNOWN\", \"ERROR\"]), \"Item\"] = pd.NA\n",
    "df.Quantity = pd.to_numeric(df.Quantity, errors=\"coerce\").astype(\"Int64\")\n",
    "df.Unit_Price = pd.to_numeric(df.Unit_Price, errors=\"coerce\").astype(\"Float64\")\n",
    "df.Total = pd.to_numeric(df.Total, errors=\"coerce\").astype(\"Float64\")\n",
    "df.loc[df.Location.isin([\"UNKNOWN\", \"ERROR\"]), \"Location\"] = pd.NA\n",
    "df.Date = pd.to_datetime(df.Date, errors=\"coerce\")\n",
    "\n",
    "df.dtypes"
   ]
  },
  {
   "cell_type": "markdown",
   "id": "b4fa60b2",
   "metadata": {},
   "source": [
    "## Data Pruning"
   ]
  },
  {
   "cell_type": "markdown",
   "id": "4b29af7d",
   "metadata": {},
   "source": [
    "With our data types corrected, we'll begin removing records that don't have sufficient data for data imputation or data recovery. We'll get rid of records where the mathematical relationship `Total = Quantity * Unit_Price` cannot be utilised to recovery financial data, data with missing date values, and data that cannot be recovered by mapping to our dictionaries."
   ]
  },
  {
   "cell_type": "code",
   "execution_count": 12,
   "id": "56ff8ad7",
   "metadata": {},
   "outputs": [
    {
     "data": {
      "text/plain": [
       "(10000, 8)"
      ]
     },
     "execution_count": 12,
     "metadata": {},
     "output_type": "execute_result"
    }
   ],
   "source": [
    "df.shape"
   ]
  },
  {
   "cell_type": "markdown",
   "id": "8469ebac",
   "metadata": {},
   "source": [
    "If Item, Quantity and Unit_Price columns are empty (null)."
   ]
  },
  {
   "cell_type": "code",
   "execution_count": 13,
   "id": "8a1814ae",
   "metadata": {},
   "outputs": [
    {
     "data": {
      "text/plain": [
       "(9997, 8)"
      ]
     },
     "execution_count": 13,
     "metadata": {},
     "output_type": "execute_result"
    }
   ],
   "source": [
    "mask = df.Item.isna() & df.Quantity.isna() & df.Unit_Price.isna()\n",
    "df = df.drop(df[mask].index)\n",
    "df.shape"
   ]
  },
  {
   "cell_type": "markdown",
   "id": "53db0174",
   "metadata": {},
   "source": [
    "If Quantity, Unit_Price and Total columns are empty (null)."
   ]
  },
  {
   "cell_type": "code",
   "execution_count": 14,
   "id": "4bfb4643",
   "metadata": {},
   "outputs": [
    {
     "data": {
      "text/plain": [
       "(9997, 8)"
      ]
     },
     "execution_count": 14,
     "metadata": {},
     "output_type": "execute_result"
    }
   ],
   "source": [
    "mask = df.Quantity.isna() & df.Unit_Price.isna() & df.Total.isna()\n",
    "df = df.drop(df[mask].index)\n",
    "df.shape"
   ]
  },
  {
   "cell_type": "markdown",
   "id": "30c8668e",
   "metadata": {},
   "source": [
    "If Item, Unit_Price and Total columns are null."
   ]
  },
  {
   "cell_type": "code",
   "execution_count": 15,
   "id": "36ecb5a6",
   "metadata": {},
   "outputs": [
    {
     "data": {
      "text/plain": [
       "(9994, 8)"
      ]
     },
     "execution_count": 15,
     "metadata": {},
     "output_type": "execute_result"
    }
   ],
   "source": [
    "mask = df.Item.isna() & df.Unit_Price.isna() & df.Total.isna()\n",
    "df = df.drop(df[mask].index)\n",
    "df.shape"
   ]
  },
  {
   "cell_type": "markdown",
   "id": "814b1d4d",
   "metadata": {},
   "source": [
    "If Item, Quantity and Total columns are null."
   ]
  },
  {
   "cell_type": "code",
   "execution_count": 16,
   "id": "a4c363df",
   "metadata": {},
   "outputs": [
    {
     "data": {
      "text/plain": [
       "(9994, 8)"
      ]
     },
     "execution_count": 16,
     "metadata": {},
     "output_type": "execute_result"
    }
   ],
   "source": [
    "mask = df.Item.isna() & df.Quantity.isna() & df.Total.isna()\n",
    "df = df.drop(df[mask].index)\n",
    "df.shape"
   ]
  },
  {
   "cell_type": "markdown",
   "id": "d97ba20a",
   "metadata": {},
   "source": [
    "If Quantity and Total columns are null."
   ]
  },
  {
   "cell_type": "code",
   "execution_count": 17,
   "id": "ff290901",
   "metadata": {},
   "outputs": [
    {
     "data": {
      "text/plain": [
       "(9974, 8)"
      ]
     },
     "execution_count": 17,
     "metadata": {},
     "output_type": "execute_result"
    }
   ],
   "source": [
    "mask = df.Quantity.isna() & df.Total.isna()\n",
    "df = df.drop(df[mask].index)\n",
    "df.shape"
   ]
  },
  {
   "cell_type": "markdown",
   "id": "15119956",
   "metadata": {},
   "source": [
    "Drop null date records."
   ]
  },
  {
   "cell_type": "code",
   "execution_count": 18,
   "id": "6ff63038",
   "metadata": {},
   "outputs": [
    {
     "data": {
      "text/plain": [
       "(9514, 8)"
      ]
     },
     "execution_count": 18,
     "metadata": {},
     "output_type": "execute_result"
    }
   ],
   "source": [
    "df = df.dropna(subset=[\"Date\"])\n",
    "df.shape"
   ]
  },
  {
   "cell_type": "markdown",
   "id": "7f4c1b47",
   "metadata": {},
   "source": [
    "## Data Imputation"
   ]
  },
  {
   "cell_type": "markdown",
   "id": "3745c9fb",
   "metadata": {},
   "source": [
    "### Function Definition"
   ]
  },
  {
   "cell_type": "markdown",
   "id": "73d3d5b9",
   "metadata": {},
   "source": [
    "If Item is present, Unit_Price is empty and Item is in the menu dictionary, acquire the Unit_Price from dictionary."
   ]
  },
  {
   "cell_type": "code",
   "execution_count": 19,
   "id": "b91532d3",
   "metadata": {},
   "outputs": [],
   "source": [
    "def impute_unit_price(dataframe, menu_dict):\n",
    "    dataframe = dataframe.copy() \n",
    "    \n",
    "    mask = (\n",
    "        dataframe['Item'].notna() & \n",
    "        dataframe['Unit_Price'].isna() & \n",
    "        dataframe['Item'].isin(menu_dict.keys())\n",
    "    )\n",
    "    \n",
    "    dataframe.loc[mask, 'Unit_Price'] = dataframe.loc[mask, 'Item'].map(menu_dict)\n",
    "    \n",
    "    return dataframe"
   ]
  },
  {
   "cell_type": "markdown",
   "id": "0e0050b5",
   "metadata": {},
   "source": [
    "If Unit_Price is present, Item is empty and Unit_Price is present in the price_item_dict dictionary, acquire the Item from the dictionary. In cases where there is more than one option for Item, randomly select an Item."
   ]
  },
  {
   "cell_type": "code",
   "execution_count": 20,
   "id": "d054fc58",
   "metadata": {},
   "outputs": [],
   "source": [
    "def impute_item(dataframe, price_item_dict):\n",
    "    dataframe = dataframe.copy()  \n",
    "    \n",
    "    mask = (\n",
    "        dataframe['Unit_Price'].notna() & \n",
    "        dataframe['Item'].isna() & \n",
    "        dataframe['Unit_Price'].isin(price_item_dict.keys())\n",
    "    )\n",
    "    \n",
    "    def select_random_item(price):\n",
    "        return random.choice(price_item_dict[price])\n",
    "    \n",
    "    dataframe.loc[mask, 'Item'] = dataframe.loc[mask, 'Unit_Price'].map(select_random_item)\n",
    "    \n",
    "    return dataframe"
   ]
  },
  {
   "cell_type": "markdown",
   "id": "dafae86b",
   "metadata": {},
   "source": [
    "Use the mathematical relationship `Total = Quantity × Unit_Price` where the is sufficient data to calculate the missing data"
   ]
  },
  {
   "cell_type": "code",
   "execution_count": 21,
   "id": "2a690d24",
   "metadata": {},
   "outputs": [],
   "source": [
    "def calculate_missing_values(dataframe):\n",
    "    dataframe = dataframe.copy() \n",
    "    \n",
    "    dataframe.Quantity = np.where(\n",
    "        dataframe.Unit_Price.notna() & dataframe.Total.notna(), \n",
    "        dataframe.Total / dataframe.Unit_Price, \n",
    "        dataframe.Quantity\n",
    "    )\n",
    "    \n",
    "    dataframe.Unit_Price = np.where(\n",
    "        dataframe.Quantity.notna() & dataframe.Total.notna(), \n",
    "        dataframe.Total / dataframe.Quantity, \n",
    "        dataframe.Unit_Price\n",
    "    )\n",
    "    \n",
    "    dataframe.Total = np.where(\n",
    "        dataframe.Quantity.notna() & dataframe.Unit_Price.notna(), \n",
    "        dataframe.Quantity * dataframe.Unit_Price, \n",
    "        dataframe.Total\n",
    "    )\n",
    "    \n",
    "    return dataframe"
   ]
  },
  {
   "cell_type": "markdown",
   "id": "453897a3",
   "metadata": {},
   "source": [
    "### Data Iputation"
   ]
  },
  {
   "cell_type": "markdown",
   "id": "7d23a120",
   "metadata": {},
   "source": [
    "#### Item, Quantity, Unit_Price and Total\n",
    "Check missing values before imputation"
   ]
  },
  {
   "cell_type": "code",
   "execution_count": 22,
   "id": "68981337",
   "metadata": {},
   "outputs": [
    {
     "name": "stdout",
     "output_type": "stream",
     "text": [
      "Missing Unit Price with Item: 455\n",
      "Missing Item with Unit Price: 876\n",
      "Missing Quatinties: 431\n",
      "Missing Unit Prices: 500\n",
      "Missing Totals: 453\n"
     ]
    }
   ],
   "source": [
    "print(f\"Missing Unit Price with Item: {df[df.Item.notna() & df.Unit_Price.isna()].shape[0]}\")\n",
    "print(f\"Missing Item with Unit Price: {df[df.Item.isna() & df.Unit_Price.notna()].shape[0]}\")\n",
    "print(f\"Missing Quatinties: {df.Quantity.isna().sum()}\")\n",
    "print(f\"Missing Unit Prices: {df.Unit_Price.isna().sum()}\")\n",
    "print(f\"Missing Totals: {df.Total.isna().sum()}\")\n"
   ]
  },
  {
   "cell_type": "markdown",
   "id": "7d6d9afc",
   "metadata": {},
   "source": [
    "Use the functions defined to impute Unit_Price and Item columns, and calculate the financial data."
   ]
  },
  {
   "cell_type": "code",
   "execution_count": 23,
   "id": "a2e31d9e",
   "metadata": {},
   "outputs": [],
   "source": [
    "df = impute_unit_price(dataframe=df, menu_dict=menu)\n",
    "df = calculate_missing_values(dataframe=df)\n",
    "df = impute_item(dataframe=df, price_item_dict=price_item_dict)"
   ]
  },
  {
   "cell_type": "markdown",
   "id": "6dc81e92",
   "metadata": {},
   "source": [
    "Check missing values after imputation"
   ]
  },
  {
   "cell_type": "code",
   "execution_count": 24,
   "id": "2c70c55b",
   "metadata": {},
   "outputs": [
    {
     "data": {
      "text/html": [
       "<div>\n",
       "<style scoped>\n",
       "    .dataframe tbody tr th:only-of-type {\n",
       "        vertical-align: middle;\n",
       "    }\n",
       "\n",
       "    .dataframe tbody tr th {\n",
       "        vertical-align: top;\n",
       "    }\n",
       "\n",
       "    .dataframe thead th {\n",
       "        text-align: right;\n",
       "    }\n",
       "</style>\n",
       "<table border=\"1\" class=\"dataframe\">\n",
       "  <thead>\n",
       "    <tr style=\"text-align: right;\">\n",
       "      <th></th>\n",
       "      <th>Txn_ID</th>\n",
       "      <th>Item</th>\n",
       "      <th>Quantity</th>\n",
       "      <th>Unit_Price</th>\n",
       "      <th>Total</th>\n",
       "      <th>Payment</th>\n",
       "      <th>Location</th>\n",
       "      <th>Date</th>\n",
       "    </tr>\n",
       "  </thead>\n",
       "  <tbody>\n",
       "  </tbody>\n",
       "</table>\n",
       "</div>"
      ],
      "text/plain": [
       "Empty DataFrame\n",
       "Columns: [Txn_ID, Item, Quantity, Unit_Price, Total, Payment, Location, Date]\n",
       "Index: []"
      ]
     },
     "execution_count": 24,
     "metadata": {},
     "output_type": "execute_result"
    }
   ],
   "source": [
    "df[df[[\"Item\", \"Quantity\", \"Unit_Price\", \"Total\"]].isna().any(axis=1)]"
   ]
  },
  {
   "cell_type": "markdown",
   "id": "c20042a7",
   "metadata": {},
   "source": [
    "#### Location and Payment\n",
    "Check missing values before imputation"
   ]
  },
  {
   "cell_type": "code",
   "execution_count": 25,
   "id": "a605e3f4",
   "metadata": {},
   "outputs": [
    {
     "name": "stdout",
     "output_type": "stream",
     "text": [
      "Missing Location: 3770\n",
      "Missing Payment: 2430\n",
      "Total: 5229\n"
     ]
    }
   ],
   "source": [
    "print(f\"Missing Location: {df.Location.isna().sum()}\")\n",
    "print(f\"Missing Payment: {df.Payment.isna().sum()}\")\n",
    "print(f\"Total: {df[(df.Location.isna()) | (df.Payment.isna())].shape[0]}\") # covers instances where both are missing as well\n",
    "\n",
    "# df_lo_pay = df[(df.Location.isna()) | (df.Payment.isna())]\n",
    "# df_lo_pay.shape"
   ]
  },
  {
   "cell_type": "markdown",
   "id": "57ef2dd9",
   "metadata": {},
   "source": [
    "Define a function to determine the mode of grouped Items"
   ]
  },
  {
   "cell_type": "code",
   "execution_count": 26,
   "id": "14749346",
   "metadata": {},
   "outputs": [],
   "source": [
    "mode = lambda x: x.fillna(x.mode().iloc[0]) if not x.mode().empty else x"
   ]
  },
  {
   "cell_type": "markdown",
   "id": "1f8c84c9",
   "metadata": {},
   "source": [
    "Use function to impute modal values into Location and Payment columns."
   ]
  },
  {
   "cell_type": "code",
   "execution_count": 27,
   "id": "66b4e216",
   "metadata": {},
   "outputs": [],
   "source": [
    "df.Payment = df.groupby('Item').Payment.transform(mode)\n",
    "df.Location = df.groupby('Item').Location.transform(mode)"
   ]
  },
  {
   "cell_type": "markdown",
   "id": "dd447cdf",
   "metadata": {},
   "source": [
    "Check missing values after imputation"
   ]
  },
  {
   "cell_type": "code",
   "execution_count": 28,
   "id": "b097d0c8",
   "metadata": {},
   "outputs": [
    {
     "data": {
      "text/html": [
       "<div>\n",
       "<style scoped>\n",
       "    .dataframe tbody tr th:only-of-type {\n",
       "        vertical-align: middle;\n",
       "    }\n",
       "\n",
       "    .dataframe tbody tr th {\n",
       "        vertical-align: top;\n",
       "    }\n",
       "\n",
       "    .dataframe thead th {\n",
       "        text-align: right;\n",
       "    }\n",
       "</style>\n",
       "<table border=\"1\" class=\"dataframe\">\n",
       "  <thead>\n",
       "    <tr style=\"text-align: right;\">\n",
       "      <th></th>\n",
       "      <th>Txn_ID</th>\n",
       "      <th>Item</th>\n",
       "      <th>Quantity</th>\n",
       "      <th>Unit_Price</th>\n",
       "      <th>Total</th>\n",
       "      <th>Payment</th>\n",
       "      <th>Location</th>\n",
       "      <th>Date</th>\n",
       "    </tr>\n",
       "  </thead>\n",
       "  <tbody>\n",
       "  </tbody>\n",
       "</table>\n",
       "</div>"
      ],
      "text/plain": [
       "Empty DataFrame\n",
       "Columns: [Txn_ID, Item, Quantity, Unit_Price, Total, Payment, Location, Date]\n",
       "Index: []"
      ]
     },
     "execution_count": 28,
     "metadata": {},
     "output_type": "execute_result"
    }
   ],
   "source": [
    "df[df[[\"Location\", \"Payment\"]].isna().any(axis=1)]"
   ]
  },
  {
   "cell_type": "markdown",
   "id": "84f084a5",
   "metadata": {},
   "source": [
    "Check the entire dataframe for missing values"
   ]
  },
  {
   "cell_type": "code",
   "execution_count": 29,
   "id": "d16e11e4",
   "metadata": {},
   "outputs": [
    {
     "data": {
      "text/plain": [
       "Txn_ID        0\n",
       "Item          0\n",
       "Quantity      0\n",
       "Unit_Price    0\n",
       "Total         0\n",
       "Payment       0\n",
       "Location      0\n",
       "Date          0\n",
       "dtype: int64"
      ]
     },
     "execution_count": 29,
     "metadata": {},
     "output_type": "execute_result"
    }
   ],
   "source": [
    "df.isna().sum()"
   ]
  },
  {
   "cell_type": "code",
   "execution_count": 30,
   "id": "42cbc5bf",
   "metadata": {},
   "outputs": [
    {
     "data": {
      "text/plain": [
       "(9514, 8)"
      ]
     },
     "execution_count": 30,
     "metadata": {},
     "output_type": "execute_result"
    }
   ],
   "source": [
    "df.shape"
   ]
  },
  {
   "cell_type": "markdown",
   "id": "8f306019",
   "metadata": {},
   "source": [
    "After our data cleaning pipeline, our dataset has 9514 records with no missing or invalid data."
   ]
  }
 ],
 "metadata": {
  "kernelspec": {
   "display_name": "Python 3",
   "language": "python",
   "name": "python3"
  },
  "language_info": {
   "codemirror_mode": {
    "name": "ipython",
    "version": 3
   },
   "file_extension": ".py",
   "mimetype": "text/x-python",
   "name": "python",
   "nbconvert_exporter": "python",
   "pygments_lexer": "ipython3",
   "version": "3.12.1"
  }
 },
 "nbformat": 4,
 "nbformat_minor": 5
}
